{
  "cells": [
    {
      "cell_type": "markdown",
      "metadata": {
        "id": "view-in-github",
        "colab_type": "text"
      },
      "source": [
        "<a href=\"https://colab.research.google.com/github/jjgp/colab/blob/master/notebooks/ngrok.ipynb\" target=\"_parent\"><img src=\"https://colab.research.google.com/assets/colab-badge.svg\" alt=\"Open In Colab\"/></a>"
      ]
    },
    {
      "cell_type": "code",
      "execution_count": 2,
      "metadata": {
        "id": "WIjvacTf8GRD",
        "outputId": "5d0d021a-5bfa-48ef-d3ab-4f469024e45d",
        "colab": {
          "base_uri": "https://localhost:8080/"
        }
      },
      "outputs": [
        {
          "output_type": "stream",
          "name": "stdout",
          "text": [
            "Collecting git+https://github.com/jjgp/colab\n",
            "  Cloning https://github.com/jjgp/colab to /tmp/pip-req-build-slee_p7b\n",
            "  Running command git clone -q https://github.com/jjgp/colab /tmp/pip-req-build-slee_p7b\n",
            "Building wheels for collected packages: colab\n",
            "  Building wheel for colab (setup.py) ... \u001b[?25l\u001b[?25hdone\n",
            "  Created wheel for colab: filename=colab-0.0.1-py3-none-any.whl size=1405 sha256=ae5cfb29aaeb413a944165ce797005346f33d959af4dbe6722f6d56072b765d3\n",
            "  Stored in directory: /tmp/pip-ephem-wheel-cache-08bgyf1c/wheels/ae/51/e1/6f52a739c14d371b54949fb83481b088970c32219da1e72293\n",
            "Successfully built colab\n",
            "Installing collected packages: colab\n",
            "Successfully installed colab-0.0.1\n"
          ]
        }
      ],
      "source": [
        "%pip install git+https://github.com/jjgp/colab"
      ]
    },
    {
      "cell_type": "code",
      "source": [
        ""
      ],
      "metadata": {
        "id": "9CWI3YtE8MZA"
      },
      "execution_count": null,
      "outputs": []
    }
  ],
  "metadata": {
    "language_info": {
      "name": "python"
    },
    "colab": {
      "name": "ngrok.ipynb",
      "provenance": [],
      "include_colab_link": true
    },
    "kernelspec": {
      "name": "python3",
      "display_name": "Python 3"
    }
  },
  "nbformat": 4,
  "nbformat_minor": 0
}