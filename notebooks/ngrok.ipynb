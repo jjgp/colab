{
  "cells": [
    {
      "cell_type": "markdown",
      "metadata": {
        "id": "view-in-github",
        "colab_type": "text"
      },
      "source": [
        "<a href=\"https://colab.research.google.com/github/jjgp/colab/blob/main/notebooks/ngrok.ipynb\" target=\"_parent\"><img src=\"https://colab.research.google.com/assets/colab-badge.svg\" alt=\"Open In Colab\"/></a>"
      ]
    },
    {
      "cell_type": "code",
      "execution_count": null,
      "metadata": {
        "id": "AArEGxZZdebm"
      },
      "outputs": [],
      "source": [
        "# TODO: Fill-in credentials below\n",
        "\n",
        "AUTHORIZED_KEY = \"\"\"\n",
        "ssh-ed25519 XXXXXXXXXXXXXXXXXXXXXXXXXXXXXXXXXXXXXXXXXXXXXXXXXXXXXX+XXXXXXXXXXXXX XXXXXXX@XXXXX.XXX\n",
        "\"\"\".strip()  # noqa\n",
        "AUTHTOKEN = \"XXXXXXXXXXXXXXXXXXXXXXXXXXXXXXXXXXXXXXXXXXXXXXXXX\""
      ]
    },
    {
      "cell_type": "markdown",
      "metadata": {
        "id": "ouKAvSx0WgtZ"
      },
      "source": [
        "# SSH"
      ]
    },
    {
      "cell_type": "code",
      "execution_count": null,
      "metadata": {
        "id": "WIjvacTf8GRD"
      },
      "outputs": [],
      "source": [
        "%%bash -e\n",
        "apt-get install openssh-server > /dev/null\n",
        "sed -i -E \"s/#?PermitUserEnvironment.*/PermitUserEnvironment yes/\" /etc/ssh/sshd_config\n",
        "mkdir -p ~/.ssh"
      ]
    },
    {
      "cell_type": "code",
      "execution_count": null,
      "metadata": {
        "id": "PbnqGexCQ996"
      },
      "outputs": [],
      "source": [
        "with open(\"/root/.ssh/authorized_keys\", \"w\") as f:\n",
        "    f.write(AUTHORIZED_KEY)"
      ]
    },
    {
      "cell_type": "markdown",
      "metadata": {
        "id": "nYRifSzn0Ooa"
      },
      "source": [
        "Exporting the `env` with logic taken from [microsoft/node-pty](https://github.com/microsoft/node-pty):\n",
        "- [src/unixTerminal.ts#L282](https://github.com/microsoft/node-pty/blob/1674722e1caf3ff4dd52438b70ed68d46af83a6d/src/unixTerminal.ts#L282)\n",
        "- [src/terminal.ts#L197](https://github.com/microsoft/node-pty/blob/1674722e1caf3ff4dd52438b70ed68d46af83a6d/src/terminal.ts#L197)"
      ]
    },
    {
      "cell_type": "code",
      "execution_count": null,
      "metadata": {
        "id": "tJi2CHu0z4mD"
      },
      "outputs": [],
      "source": [
        "import os\n",
        "\n",
        "# Some of these are likely not to happen based on how the process is started...\n",
        "envvars_to_skip = {\n",
        "    \"TMUX\",\n",
        "    \"TMUX_PANE\",\n",
        "    \"STY\",\n",
        "    \"WINDOW\",\n",
        "    \"WINDOWID\",\n",
        "    \"TERMCAP\",\n",
        "    \"COLUMNS\",\n",
        "    \"LINES\",\n",
        "}\n",
        "\n",
        "with open(\"/root/.ssh/environment\", \"w\") as f:\n",
        "    for envvar, value in os.environ.items():\n",
        "        if envvar not in envvars_to_skip:\n",
        "            f.write(f\"{envvar}={value}\\n\")"
      ]
    },
    {
      "cell_type": "code",
      "execution_count": null,
      "metadata": {
        "id": "ifTF1y7TM2-q"
      },
      "outputs": [],
      "source": [
        "!service ssh restart > /dev/null"
      ]
    },
    {
      "cell_type": "markdown",
      "metadata": {
        "id": "eG1xtXhSWjGP"
      },
      "source": [
        "# ngrok"
      ]
    },
    {
      "cell_type": "code",
      "execution_count": null,
      "metadata": {
        "id": "8zPCCmIAWki-"
      },
      "outputs": [],
      "source": [
        "%%bash -e\n",
        "curl -sSLO https://bin.equinox.io/c/4VmDzA7iaHb/ngrok-stable-linux-amd64.tgz\n",
        "tar -xzf ngrok-stable-linux-amd64.tgz\n",
        "mv ngrok /usr/local/bin\n",
        "rm ngrok-stable-linux-amd64.tgz"
      ]
    },
    {
      "cell_type": "code",
      "execution_count": null,
      "metadata": {
        "id": "o6FGyVDabjQR"
      },
      "outputs": [],
      "source": [
        "!ngrok authtoken $AUTHTOKEN > /dev/null"
      ]
    },
    {
      "cell_type": "code",
      "execution_count": null,
      "metadata": {
        "id": "EuurK23EaRL4"
      },
      "outputs": [],
      "source": [
        "%%bash --bg\n",
        "ngrok tcp 22 --log ngrok.log --log-format logfmt"
      ]
    },
    {
      "cell_type": "markdown",
      "metadata": {
        "id": "CD8meZXqRfcQ"
      },
      "source": [
        "Wait a couple seconds and run the following to get the url..."
      ]
    },
    {
      "cell_type": "code",
      "execution_count": null,
      "metadata": {
        "id": "aVTVR-ETbGFk"
      },
      "outputs": [],
      "source": [
        "!tac ngrok.log | grep -m1 url=tcp://"
      ]
    },
    {
      "cell_type": "code",
      "execution_count": null,
      "metadata": {
        "id": "rEOtgV9lYOOC"
      },
      "outputs": [],
      "source": [
        "!killall -SIGQUIT -q ngrok || true"
      ]
    },
    {
      "cell_type": "markdown",
      "metadata": {
        "id": "V4-qr1_cYuT-"
      },
      "source": [
        "To connect to the instance...\n",
        "\n",
        "```sh\n",
        "ssh -i [KEYFILE PATH] root@[NGROK DOMAIN] -p [NGROK PORT]\n",
        "```\n",
        "\n",
        "...or with the `~/.ssh/config`...\n",
        "\n",
        "```\n",
        "Host [NGROK DOMAIN]\n",
        "  HostName [NGROK DOMAIN]\n",
        "  IdentityFile [KEYFILE PATH]\n",
        "  Port [NGROK PORT] \n",
        "  User root\n",
        "```\n",
        "\n",
        "...and simply run:\n",
        "\n",
        "```sh\n",
        "ssh root@[NGROK DOMAIN]\n",
        "```"
      ]
    },
    {
      "cell_type": "code",
      "execution_count": null,
      "metadata": {
        "id": "ofF_gzZJfdM8"
      },
      "outputs": [],
      "source": [
        ""
      ]
    }
  ],
  "metadata": {
    "accelerator": "GPU",
    "colab": {
      "collapsed_sections": [],
      "name": "ngrok.ipynb",
      "provenance": [],
      "include_colab_link": true
    },
    "language_info": {
      "name": "python"
    }
  },
  "nbformat": 4,
  "nbformat_minor": 0
}